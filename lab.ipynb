{
 "cells": [
  {
   "cell_type": "markdown",
   "id": "4f40fcb5",
   "metadata": {},
   "source": [
    "Setup\n"
   ]
  },
  {
   "cell_type": "code",
   "execution_count": 2,
   "id": "80d74db0",
   "metadata": {},
   "outputs": [
    {
     "name": "stdout",
     "output_type": "stream",
     "text": [
      "Ready!\n"
     ]
    }
   ],
   "source": [
    "# === Cell 0: Imports ===\n",
    "import os, re, glob\n",
    "from pathlib import Path\n",
    "import numpy as np\n",
    "import pandas as pd\n",
    "import soundfile as sf\n",
    "import librosa\n",
    "import matplotlib.pyplot as plt\n",
    "from numpy.fft import rfft, rfftfreq\n",
    "\n",
    "print(\"Ready!\")\n"
   ]
  },
  {
   "cell_type": "markdown",
   "id": "04ff8dde",
   "metadata": {},
   "source": [
    "1. Analysis Parameters\n"
   ]
  },
  {
   "cell_type": "code",
   "execution_count": 3,
   "id": "2128812e",
   "metadata": {},
   "outputs": [],
   "source": [
    "# === Cell 1: Tunable parameters ===\n",
    "SR        = 48000            # analysis sample rate\n",
    "F0        = 1000.0           # test tone (Hz)\n",
    "NFFT_MAIN = 65536            # FFT size (tone/silence spectra)\n",
    "BAND_HZ   = 5.0              # ±Hz around f0/harmonics to integrate power\n",
    "TRIM_SEC  = 1.0              # cut head+tail (avoid transients)\n",
    "MAX_H     = 10               # up to 10th harmonic\n",
    "\n",
    "# Short-time SNR (per-frame)\n",
    "ST_FRAME  = int(0.050*SR)    # 50 ms\n",
    "ST_HOP    = int(0.025*SR)    # 25 ms\n",
    "NFFT_ST   = 16384\n",
    "\n",
    "DATA_ROOT = Path(\"data\")     # Step-1 output folder\n",
    "PLOTS_DIR = Path(\"plots_step2\"); PLOTS_DIR.mkdir(parents=True, exist_ok=True)\n"
   ]
  }
 ],
 "metadata": {
  "kernelspec": {
   "display_name": ".venv (3.12.1)",
   "language": "python",
   "name": "python3"
  },
  "language_info": {
   "codemirror_mode": {
    "name": "ipython",
    "version": 3
   },
   "file_extension": ".py",
   "mimetype": "text/x-python",
   "name": "python",
   "nbconvert_exporter": "python",
   "pygments_lexer": "ipython3",
   "version": "3.12.1"
  }
 },
 "nbformat": 4,
 "nbformat_minor": 5
}
