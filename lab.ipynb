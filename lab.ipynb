{
 "cells": [
  {
   "cell_type": "markdown",
   "id": "4f40fcb5",
   "metadata": {},
   "source": [
    "Setup\n"
   ]
  },
  {
   "cell_type": "code",
   "execution_count": 2,
   "id": "80d74db0",
   "metadata": {},
   "outputs": [
    {
     "name": "stdout",
     "output_type": "stream",
     "text": [
      "Ready!\n"
     ]
    }
   ],
   "source": [
    "# === Cell 0: Imports ===\n",
    "import os, re, glob\n",
    "from pathlib import Path\n",
    "import numpy as np\n",
    "import pandas as pd\n",
    "import soundfile as sf\n",
    "import librosa\n",
    "import matplotlib.pyplot as plt\n",
    "from numpy.fft import rfft, rfftfreq\n",
    "\n",
    "print(\"Ready!\")\n"
   ]
  },
  {
   "cell_type": "markdown",
   "id": "04ff8dde",
   "metadata": {},
   "source": [
    "1. Analysis Parameters\n"
   ]
  },
  {
   "cell_type": "code",
   "execution_count": 3,
   "id": "2128812e",
   "metadata": {},
   "outputs": [],
   "source": [
    "# === Cell 1: Tunable parameters ===\n",
    "SR        = 48000            # analysis sample rate\n",
    "F0        = 1000.0           # test tone (Hz)\n",
    "NFFT_MAIN = 65536            # FFT size (tone/silence spectra)\n",
    "BAND_HZ   = 5.0              # ±Hz around f0/harmonics to integrate power\n",
    "TRIM_SEC  = 1.0              # cut head+tail (avoid transients)\n",
    "MAX_H     = 10               # up to 10th harmonic\n",
    "\n",
    "# Short-time SNR (per-frame)\n",
    "ST_FRAME  = int(0.050*SR)    # 50 ms\n",
    "ST_HOP    = int(0.025*SR)    # 25 ms\n",
    "NFFT_ST   = 16384\n",
    "\n",
    "DATA_ROOT = Path(\"data\")     # Step-1 output folder\n",
    "PLOTS_DIR = Path(\"plots_step2\"); PLOTS_DIR.mkdir(parents=True, exist_ok=True)\n"
   ]
  },
  {
   "cell_type": "markdown",
   "id": "37fc0021",
   "metadata": {},
   "source": [
    "2. Helper Functions\n"
   ]
  },
  {
   "cell_type": "code",
   "execution_count": 5,
   "id": "01987e38",
   "metadata": {},
   "outputs": [],
   "source": [
    "# === Cell 2: Helpers (load, FFT, metrics, scoring) ===\n",
    "def load_wav_center(path, sr=SR, trim_sec=TRIM_SEC):\n",
    "    \"\"\"Mono, resample to SR, remove DC, keep steady middle (trim head/tail).\"\"\"\n",
    "    y, srx = sf.read(path, dtype='float32')\n",
    "    if y.ndim > 1: y = y.mean(axis=1)\n",
    "    if srx != sr:\n",
    "        y = librosa.resample(y, orig_sr=srx, target_sr=sr)\n",
    "    if len(y) > 2*int(trim_sec*sr):\n",
    "        y = y[int(trim_sec*sr):-int(trim_sec*sr)]\n",
    "    y = y - np.mean(y)\n",
    "    return y, sr\n",
    "\n",
    "def mag_spectrum(y, sr=SR, nfft=NFFT_MAIN, use_hann=True):\n",
    "    \"\"\"Single-sided magnitude spectrum (Hann window + amplitude normalization).\"\"\"\n",
    "    y = y.astype(np.float64)\n",
    "    if use_hann:\n",
    "        w = np.hanning(len(y)); y = y * w\n",
    "        norm = (np.sum(w)/2.0)\n",
    "    else:\n",
    "        norm = len(y)/2.0\n",
    "    if len(y) < nfft:\n",
    "        y = np.pad(y, (0, nfft-len(y)))\n",
    "    Y = rfft(y[:nfft])\n",
    "    mag = np.abs(Y) / (norm if norm>0 else 1.0)\n",
    "    freqs = rfftfreq(nfft, 1/sr)\n",
    "    return freqs, mag\n",
    "\n",
    "def band_power(freqs, mag, f_center, width_hz=BAND_HZ):\n",
    "    sel = (freqs >= f_center-width_hz) & (freqs <= f_center+width_hz)\n",
    "    return float(np.sum(mag[sel]**2))\n",
    "\n",
    "def analyze_tone(tone_path):\n",
    "    \"\"\"Return dict with f0, SNR(dB), THD(%), THD+N(dB) + spectra & time.\"\"\"\n",
    "    y, sr = load_wav_center(tone_path, SR)\n",
    "    freqs, mag = mag_spectrum(y, sr)\n",
    "    sel = (freqs >= F0-BAND_HZ) & (freqs <= F0+BAND_HZ)\n",
    "    if not np.any(sel): return None\n",
    "    f0_est = freqs[sel][np.argmax(mag[sel])]\n",
    "    P1 = band_power(freqs, mag, f0_est)\n",
    "    Ph = 0.0\n",
    "    for h in range(2, MAX_H+1):\n",
    "        fc = h*f0_est\n",
    "        if fc >= freqs[-1]: break\n",
    "        Ph += band_power(freqs, mag, fc)\n",
    "    Ptot = float(np.sum(mag**2))\n",
    "    Pn = max(Ptot - P1 - Ph, 1e-20)\n",
    "    SNR_dB  = 10*np.log10(P1/Pn)\n",
    "    THD_pct = 100*np.sqrt(Ph/P1) if P1>0 else np.nan\n",
    "    THDN_dB = 10*np.log10((Ph+Pn)/P1) if P1>0 else np.nan\n",
    "    return dict(f0=f0_est, SNR_dB=SNR_dB, THD_pct=THD_pct, THDN_dB=THDN_dB,\n",
    "                freqs=freqs, mag=mag, y=y)\n",
    "\n",
    "def analyze_silence(sil_path):\n",
    "    \"\"\"Return dict with noise_floor_dbfs + spectra & time.\"\"\"\n",
    "    y, sr = load_wav_center(sil_path, SR)\n",
    "    freqs, mag = mag_spectrum(y, sr)\n",
    "    noise_floor_dbfs = 20*np.log10(np.median(mag)+1e-20)\n",
    "    return dict(noise_floor_dbfs=noise_floor_dbfs, freqs=freqs, mag=mag, y=y)\n",
    "\n",
    "# scoring: map raw metrics to 0–100 and combine\n",
    "def _lin(x, x0, x1):\n",
    "    if x <= x0: return 0.0\n",
    "    if x >= x1: return 100.0\n",
    "    return 100.0*(x-x0)/(x1-x0)\n",
    "\n",
    "def score_metrics(SNR_dB, THD_pct, THDN_dB, noise_floor_dbfs, weights=(1,1.2,1.2,1)):\n",
    "    snr_s = _lin(SNR_dB,      40, 70)     # higher better\n",
    "    thd_s = _lin(-THD_pct,    -2, -0.1)   # lower % better\n",
    "    thn_s = _lin(-THDN_dB,    30, 60)     # more negative better\n",
    "    nff_s = _lin(-noise_floor_dbfs, 55, 80)\n",
    "    w = np.array(weights, float); w /= w.sum()\n",
    "    final = w.dot([snr_s, thd_s, thn_s, nff_s])\n",
    "    return snr_s, thd_s, thn_s, nff_s, final\n"
   ]
  }
 ],
 "metadata": {
  "kernelspec": {
   "display_name": ".venv (3.12.1)",
   "language": "python",
   "name": "python3"
  },
  "language_info": {
   "codemirror_mode": {
    "name": "ipython",
    "version": 3
   },
   "file_extension": ".py",
   "mimetype": "text/x-python",
   "name": "python",
   "nbconvert_exporter": "python",
   "pygments_lexer": "ipython3",
   "version": "3.12.1"
  }
 },
 "nbformat": 4,
 "nbformat_minor": 5
}
